{
 "cells": [
  {
   "cell_type": "code",
   "execution_count": 1,
   "id": "f84cb065-17bd-4943-bafb-458e50a34d31",
   "metadata": {},
   "outputs": [],
   "source": [
    "import pandas as pd \n",
    "import numpy as np\n",
    "from scipy.stats import stats, trim_mean, ttest_ind, shapiro"
   ]
  },
  {
   "cell_type": "code",
   "execution_count": 2,
   "id": "8c100555-e88b-4ece-838e-55e42faddb00",
   "metadata": {},
   "outputs": [],
   "source": [
    "import os"
   ]
  },
  {
   "cell_type": "code",
   "execution_count": 3,
   "id": "ba0ee852-47af-40bf-9e20-7833968cbfae",
   "metadata": {},
   "outputs": [
    {
     "name": "stdout",
     "output_type": "stream",
     "text": [
      "Requirement already satisfied: Pyreadstat in c:\\users\\eleonora\\anaconda3\\lib\\site-packages (1.2.7)\n",
      "Requirement already satisfied: pandas>=1.2.0 in c:\\users\\eleonora\\anaconda3\\lib\\site-packages (from Pyreadstat) (2.0.3)\n",
      "Requirement already satisfied: python-dateutil>=2.8.2 in c:\\users\\eleonora\\anaconda3\\lib\\site-packages (from pandas>=1.2.0->Pyreadstat) (2.8.2)\n",
      "Requirement already satisfied: pytz>=2020.1 in c:\\users\\eleonora\\anaconda3\\lib\\site-packages (from pandas>=1.2.0->Pyreadstat) (2023.3.post1)\n",
      "Requirement already satisfied: tzdata>=2022.1 in c:\\users\\eleonora\\anaconda3\\lib\\site-packages (from pandas>=1.2.0->Pyreadstat) (2023.3)\n",
      "Requirement already satisfied: numpy>=1.21.0 in c:\\users\\eleonora\\anaconda3\\lib\\site-packages (from pandas>=1.2.0->Pyreadstat) (1.24.3)\n",
      "Requirement already satisfied: six>=1.5 in c:\\users\\eleonora\\anaconda3\\lib\\site-packages (from python-dateutil>=2.8.2->pandas>=1.2.0->Pyreadstat) (1.16.0)\n",
      "Note: you may need to restart the kernel to use updated packages.\n"
     ]
    }
   ],
   "source": [
    "pip install Pyreadstat"
   ]
  },
  {
   "cell_type": "code",
   "execution_count": 4,
   "id": "c2852823-3cf6-4f42-b2e2-ee96b72e7038",
   "metadata": {},
   "outputs": [],
   "source": [
    "os.chdir(\"C:/Users/Eleonora/Desktop/\")"
   ]
  },
  {
   "cell_type": "code",
   "execution_count": 5,
   "id": "5d513b40-a19a-4399-8a4d-5f761d9cdfcf",
   "metadata": {},
   "outputs": [],
   "source": [
    "# Read data\n",
    "df = pd.read_spss(\"C:/Users/Eleonora/Desktop/Python.sav\")"
   ]
  },
  {
   "cell_type": "code",
   "execution_count": 6,
   "id": "4f34920a-1b47-472a-9780-bc169cc65e7a",
   "metadata": {},
   "outputs": [
    {
     "name": "stdout",
     "output_type": "stream",
     "text": [
      "T-statistic: 0.5062166056726686, P-value: 0.6136490736596483\n"
     ]
    }
   ],
   "source": [
    "# Define groups\n",
    "group1 = df[df['ДемКан'] == 'Деменција']['Процесирање']\n",
    "group2 = df[df['ДемКан'] == 'Канцер']['Процесирање']\n",
    "t_stat, p_value = ttest_ind(group1, group2)\n",
    "print(f\"T-statistic: {t_stat}, P-value: {p_value}\")"
   ]
  },
  {
   "cell_type": "code",
   "execution_count": 7,
   "id": "b8b8ea78-d8f7-4da9-b27d-87868eac5e05",
   "metadata": {},
   "outputs": [
    {
     "name": "stdout",
     "output_type": "stream",
     "text": [
      "Trimmed Mean 1: 18.9375\n",
      "Trimmed Mean 2: 18.645833333333332\n",
      "Trimmed Mean Difference: 0.29166666666666785\n",
      "Bootstrap Confidence Interval: (-2.1885416666666666, 3.0416666666666643)\n",
      "P-value (Bootstrap): 0.834\n",
      "Test Statistic (Bootstrap): 0.22674962877384314\n",
      "Bootstrap Standard Error: 1.2862939103533089\n",
      "Cohen's d: 0.04621104231843666\n"
     ]
    }
   ],
   "source": [
    "# Analysis\n",
    "def yuenbt_with_stats(group1, group2, trim_frac, n_boot=1000, alpha=0.05):\n",
    "    #  Calculate trimmed means for the original data\n",
    "    trimmed_mean1 = trim_mean(group1, proportiontocut=trim_frac)\n",
    "    trimmed_mean2 = trim_mean(group2, proportiontocut=trim_frac)\n",
    "    observed_diff = trimmed_mean1 - trimmed_mean2\n",
    "\n",
    "    #  Bootstrap resampling to estimate trimmed mean differences \n",
    "    boot_diffs = []\n",
    "    for _ in range(n_boot):\n",
    "        boot_group1 = np.random.choice(group1, size=len(group1), replace=True)\n",
    "        boot_group2 = np.random.choice(group2, size=len(group2), replace=True)\n",
    "\n",
    "        boot_trimmed_mean1 = trim_mean(boot_group1, proportiontocut=trim_frac)\n",
    "        boot_trimmed_mean2 = trim_mean(boot_group2, proportiontocut=trim_frac)\n",
    "        \n",
    "        boot_diffs.append(boot_trimmed_mean1 - boot_trimmed_mean2)\n",
    "    \n",
    "    boot_diffs = np.array(boot_diffs)\n",
    "    lower_ci = np.percentile(boot_diffs, 100 * (alpha / 2))\n",
    "    upper_ci = np.percentile(boot_diffs, 100 * (1 - alpha / 2))\n",
    "    \n",
    "    # Calculate p-value based on bootstrap distribution\n",
    "    p_value_boot = (np.sum(boot_diffs >= np.abs(observed_diff)) +\n",
    "                    np.sum(boot_diffs <= -np.abs(observed_diff))) / n_boot\n",
    "\n",
    "    #  Calculate the bootstrapped test statistic\n",
    "    boot_se = np.std(boot_diffs, ddof=1)  # Bootstrapped standard error\n",
    "    boot_t_stat = observed_diff / boot_se  # Test statistic (similar to Yuen's t)\n",
    "\n",
    "    # Calculate Cohen's d\n",
    "    pooled_sd = np.sqrt((np.var(group1, ddof=1) + np.var(group2, ddof=1)) / 2)  # Pooled SD\n",
    "    cohens_d = observed_diff / pooled_sd  # Effect size\n",
    "    \n",
    "    \n",
    "    # Results\n",
    "    return {\n",
    "        \"Trimmed Mean 1\":trimmed_mean1,\n",
    "        \"Trimmed Mean 2\":trimmed_mean2,\n",
    "        \"Trimmed Mean Difference\": observed_diff,\n",
    "        \"Bootstrap Confidence Interval\": (lower_ci, upper_ci),\n",
    "        \"P-value (Bootstrap)\": p_value_boot,\n",
    "        \"Test Statistic (Bootstrap)\": boot_t_stat,\n",
    "        \"Bootstrap Standard Error\": boot_se,\n",
    "        \"Cohen's d\": cohens_d  \n",
    "    }\n",
    "\n",
    "# Yuen's bootstrapped test with 10% trimming\n",
    "trim_frac = 0.1\n",
    "results = yuenbt_with_stats(group1, group2, trim_frac)\n",
    "\n",
    "# Output \n",
    "for key, value in results.items():\n",
    "    print(f\"{key}: {value}\")"
   ]
  },
  {
   "cell_type": "code",
   "execution_count": 8,
   "id": "1cb21205-5ea6-4077-8ec1-8bd73b1efbd7",
   "metadata": {},
   "outputs": [
    {
     "name": "stdout",
     "output_type": "stream",
     "text": [
      "T-statistic: 1.3435331966393653, P-value: 0.18167737227622338\n"
     ]
    }
   ],
   "source": [
    "# Define groups\n",
    "group1 = df[df['ДемКан'] == 'Деменција']['Експресија']\n",
    "group2 = df[df['ДемКан'] == 'Канцер']['Експресија']\n",
    "t_stat, p_value = ttest_ind(group1, group2)\n",
    "print(f\"T-statistic: {t_stat}, P-value: {p_value}\")"
   ]
  },
  {
   "cell_type": "code",
   "execution_count": 9,
   "id": "6f82e1c6-d999-4575-a00d-71c875ee7b8e",
   "metadata": {},
   "outputs": [
    {
     "name": "stdout",
     "output_type": "stream",
     "text": [
      "Trimmed Mean 1: 18.75\n",
      "Trimmed Mean 2: 17.541666666666668\n",
      "Trimmed Mean Difference: 1.2083333333333321\n",
      "Bootstrap Confidence Interval: (-1.0833333333333321, 3.458333333333332)\n",
      "P-value (Bootstrap): 0.504\n",
      "Test Statistic (Bootstrap): 1.0306898533158173\n",
      "Bootstrap Standard Error: 1.1723539621992207\n",
      "Cohen's d: 0.20678895075712891\n"
     ]
    }
   ],
   "source": [
    "# Analysis\n",
    "def yuenbt_with_stats(group1, group2, trim_frac, n_boot=1000, alpha=0.05):\n",
    "    #  Calculate trimmed means for the original data\n",
    "    trimmed_mean1 = trim_mean(group1, proportiontocut=trim_frac)\n",
    "    trimmed_mean2 = trim_mean(group2, proportiontocut=trim_frac)\n",
    "    observed_diff = trimmed_mean1 - trimmed_mean2\n",
    "\n",
    "    #  Bootstrap resampling to estimate trimmed mean differences \n",
    "    boot_diffs = []\n",
    "    for _ in range(n_boot):\n",
    "        boot_group1 = np.random.choice(group1, size=len(group1), replace=True)\n",
    "        boot_group2 = np.random.choice(group2, size=len(group2), replace=True)\n",
    "\n",
    "        boot_trimmed_mean1 = trim_mean(boot_group1, proportiontocut=trim_frac)\n",
    "        boot_trimmed_mean2 = trim_mean(boot_group2, proportiontocut=trim_frac)\n",
    "        \n",
    "        boot_diffs.append(boot_trimmed_mean1 - boot_trimmed_mean2)\n",
    "    \n",
    "    boot_diffs = np.array(boot_diffs)\n",
    "    lower_ci = np.percentile(boot_diffs, 100 * (alpha / 2))\n",
    "    upper_ci = np.percentile(boot_diffs, 100 * (1 - alpha / 2))\n",
    "    \n",
    "    # Calculate p-value based on bootstrap distribution\n",
    "    p_value_boot = (np.sum(boot_diffs >= np.abs(observed_diff)) +\n",
    "                    np.sum(boot_diffs <= -np.abs(observed_diff))) / n_boot\n",
    "\n",
    "    #  Calculate the bootstrapped test statistic\n",
    "    boot_se = np.std(boot_diffs, ddof=1)  # Bootstrapped standard error\n",
    "    boot_t_stat = observed_diff / boot_se  # Test statistic (similar to Yuen's t)\n",
    "\n",
    "    # Calculate Cohen's d\n",
    "    pooled_sd = np.sqrt((np.var(group1, ddof=1) + np.var(group2, ddof=1)) / 2)  # Pooled SD\n",
    "    cohens_d = observed_diff / pooled_sd  # Effect size\n",
    "    \n",
    "    \n",
    "    # Results\n",
    "    return {\n",
    "        \"Trimmed Mean 1\":trimmed_mean1,\n",
    "        \"Trimmed Mean 2\":trimmed_mean2,\n",
    "        \"Trimmed Mean Difference\": observed_diff,\n",
    "        \"Bootstrap Confidence Interval\": (lower_ci, upper_ci),\n",
    "        \"P-value (Bootstrap)\": p_value_boot,\n",
    "        \"Test Statistic (Bootstrap)\": boot_t_stat,\n",
    "        \"Bootstrap Standard Error\": boot_se,\n",
    "        \"Cohen's d\": cohens_d  \n",
    "    }\n",
    "\n",
    "# Yuen's bootstrapped test with 10% trimming\n",
    "trim_frac = 0.1\n",
    "results = yuenbt_with_stats(group1, group2, trim_frac)\n",
    "\n",
    "# Output \n",
    "for key, value in results.items():\n",
    "    print(f\"{key}: {value}\")"
   ]
  },
  {
   "cell_type": "code",
   "execution_count": null,
   "id": "19939a4f-189f-4142-97bb-fd8079a6c59b",
   "metadata": {},
   "outputs": [],
   "source": []
  }
 ],
 "metadata": {
  "kernelspec": {
   "display_name": "Python [conda env:base] *",
   "language": "python",
   "name": "conda-base-py"
  },
  "language_info": {
   "codemirror_mode": {
    "name": "ipython",
    "version": 3
   },
   "file_extension": ".py",
   "mimetype": "text/x-python",
   "name": "python",
   "nbconvert_exporter": "python",
   "pygments_lexer": "ipython3",
   "version": "3.11.5"
  }
 },
 "nbformat": 4,
 "nbformat_minor": 5
}
