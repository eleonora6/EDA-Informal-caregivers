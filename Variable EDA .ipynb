{
 "cells": [
  {
   "cell_type": "code",
   "execution_count": 1,
   "id": "edcc288c-262a-47dd-a6ed-e1158ab36e14",
   "metadata": {},
   "outputs": [],
   "source": [
    "#Import libraries\n",
    "import pandas as pd \n",
    "import numpy as np\n",
    "import matplotlib.pyplot as plt\n",
    "import seaborn as sns\n",
    "import scipy.stats as stats\n",
    "import textwrap\n",
    "from scipy.stats import pearsonr\n",
    "import os\n",
    "os.chdir(\"C:/Users/Eleonora/Desktop/\")\n",
    "df = pd.read_spss(\"C:/Users/Eleonora/Desktop/Python corr.sav\")"
   ]
  },
  {
   "cell_type": "code",
   "execution_count": null,
   "id": "36cc8daf-35b3-4675-89b6-637b15b1e917",
   "metadata": {},
   "outputs": [],
   "source": [
    "pip install Pyreadstat"
   ]
  },
  {
   "cell_type": "code",
   "execution_count": null,
   "id": "a1156faa-dca5-495d-9742-7923c72cd97e",
   "metadata": {},
   "outputs": [],
   "source": [
    "os.chdir(\"C:/Users/Eleonora/Desktop/\")"
   ]
  },
  {
   "cell_type": "code",
   "execution_count": null,
   "id": "8502bfe2-a876-4cc7-a8a5-530989d13c7b",
   "metadata": {},
   "outputs": [],
   "source": [
    "df = pd.read_spss(\"C:/Users/Eleonora/Desktop/Untitled2.sav\")"
   ]
  },
  {
   "cell_type": "code",
   "execution_count": null,
   "id": "4afb1c0b-0a8b-4f29-a0f9-a1053f558e98",
   "metadata": {},
   "outputs": [],
   "source": [
    "df.columns"
   ]
  },
  {
   "cell_type": "code",
   "execution_count": null,
   "id": "f907ed53-fff4-42a7-a006-49a0040591ff",
   "metadata": {},
   "outputs": [],
   "source": [
    "# Correlation matrix \n",
    "corr = df.corr(numeric_only=True)\n",
    "\n",
    "# mask matrix to diagonal\n",
    "mask = np.zeros_like(corr, dtype=bool)\n",
    "mask[np.triu_indices_from(mask)] = True\n",
    "np.fill_diagonal(mask, False)\n",
    "\n",
    "fix,ax = plt.subplots(figsize=(11,5))\n",
    "\n",
    "# Generate heatmap\n",
    "heatmap = sns.heatmap(corr,\n",
    "                      annot= True,\n",
    "                      annot_kws={\"fontsize\": 10},\n",
    "                      fmt='.2f',\n",
    "                      linewidths=0.6,\n",
    "                      cmap='Blues',\n",
    "                      mask=mask,\n",
    "                      ax=ax)\n",
    "\n",
    "# calculate and format p-values\n",
    "p_values = np.full((corr.shape[0], corr.shape[1]), np.nan)\n",
    "for i in range(corr.shape[0]):\n",
    "  for j in range(i+1, corr.shape[1]):\n",
    "    x = df.iloc[:, i]\n",
    "    y = df.iloc[:, j]\n",
    "    mask = ~np.logical_or(np.isnan(x), np.isnan(y))\n",
    "    if np.sum(mask) > 0:\n",
    "      p_values[i, j] = pearsonr(x[mask], y[mask])[1] #change to pearsonr or spearmanr\n",
    "\n",
    "# Create a dataframe object for p_values\n",
    "p_values = pd.DataFrame(p_values, columns=corr.columns, index=corr.index)\n",
    "\n",
    "# Mask the p values\n",
    "mask_pvalues = np.triu(np.ones_like(p_values), k=1)\n",
    "\n",
    "# Generate maximum and minimum correlation coefficients for p-value annotation color\n",
    "max_corr = np.max(corr.max())\n",
    "min_corr = np.min(corr.min())\n",
    "\n",
    "# Assign p-values \n",
    "for i in range (p_values.shape[0]):\n",
    "  for j in range(p_values.shape[1]):\n",
    "    if mask_pvalues[i, j]:\n",
    "      p_value = p_values.iloc[i, j]\n",
    "      if not np.isnan(p_value):\n",
    "        correlation_value = corr.iloc[i, j]\n",
    "        text_color = 'black' if correlation_value >= (max_corr - 0.4) or correlation_value <= (min_corr + 0.4) else 'black'\n",
    "        if p_value <= 0.001:\n",
    "            \n",
    "            ax.text(i + 0.5, j + 0.8, f'(p = {p_value:.2f})***',\n",
    "                    horizontalalignment='center',\n",
    "                    verticalalignment='center',\n",
    "                    fontsize=7,\n",
    "                    color=text_color)\n",
    "        elif p_value <= 0.01:\n",
    "           \n",
    "            ax.text(i + 0.5, j + 0.8, f'(p = {p_value:.2f})**',\n",
    "                    horizontalalignment='center',\n",
    "                    verticalalignment='center',\n",
    "                    fontsize=7,\n",
    "                    color=text_color)\n",
    "        elif p_value <= 0.05:\n",
    "           \n",
    "            ax.text(i + 0.5, j + 0.8, f'(p = {p_value:.2f})*',\n",
    "                    horizontalalignment='center',\n",
    "                    verticalalignment='center',\n",
    "                    fontsize=8,\n",
    "                    color=text_color)\n",
    "            \n",
    "        else:\n",
    "            ax.text(i + 0.5, j + 0.8, f'(p = {p_value:.2f})',\n",
    "                    horizontalalignment='center',\n",
    "                    verticalalignment='center',\n",
    "                    fontsize=8,\n",
    "                    color=text_color)\n",
    "\n",
    "#  x-axis labels \n",
    "x_labels = ['1','2','3','4','5','6','7','8','9','10']\n",
    "ax.set_xticklabels(x_labels, rotation=0, ha=\"center\")\n",
    "\n",
    "#  y-axis labels\n",
    " \n",
    "y_labels = [f\"{i + 1}. {textwrap.fill(label.get_text(), 24)}\" for i, label in enumerate(ax.get_yticklabels())]\n",
    "ax.set_yticklabels(y_labels, rotation=0, ha=\"right\")\n",
    "\n",
    "# Display \n",
    "plt.show()"
   ]
  },
  {
   "cell_type": "code",
   "execution_count": null,
   "id": "11a11dd3-33c5-47aa-b4ad-48699df1dbf2",
   "metadata": {},
   "outputs": [],
   "source": [
    "df = pd.read_spss(\"C:/Users/Eleonora/Desktop/Untitled2.sav\")"
   ]
  },
  {
   "cell_type": "code",
   "execution_count": null,
   "id": "de3575ca-1565-460f-aa45-eaf8c2bfda1a",
   "metadata": {},
   "outputs": [],
   "source": [
    "#Scatterplot\n",
    "sns.pairplot(df)"
   ]
  }
 ],
 "metadata": {
  "kernelspec": {
   "display_name": "Python [conda env:base] *",
   "language": "python",
   "name": "conda-base-py"
  },
  "language_info": {
   "codemirror_mode": {
    "name": "ipython",
    "version": 3
   },
   "file_extension": ".py",
   "mimetype": "text/x-python",
   "name": "python",
   "nbconvert_exporter": "python",
   "pygments_lexer": "ipython3",
   "version": "3.11.5"
  }
 },
 "nbformat": 4,
 "nbformat_minor": 5
}
